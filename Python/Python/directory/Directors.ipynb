{
 "cells": [
  {
   "cell_type": "code",
   "execution_count": 37,
   "source": [
    "words=\"\"\"Reminder for the Leaven team: Use your Concepts credentials to log in.\r\n",
    "Thank you to everyone who has completed the Assessment so far. Your participation means that we can deliver training that is meaningful and useful to you.\r\n",
    "Jenny and the Security Management Team the to to for\r\n",
    "\"\"\".split()\r\n",
    "\r\n",
    "d={}\r\n",
    "\r\n",
    "for word in words:\r\n",
    "    if word not in d:\r\n",
    "        d[word]=0\r\n",
    "    d[word]+=1\r\n",
    "\r\n",
    "for k,v in sorted(d.items(),key=lambda x:x[1], reverse=True)[:5]:\r\n",
    "    print(k,v)\r\n"
   ],
   "outputs": [
    {
     "output_type": "stream",
     "name": "stdout",
     "text": [
      "to 5\n",
      "the 4\n",
      "for 2\n",
      "that 2\n",
      "and 2\n"
     ]
    }
   ],
   "metadata": {}
  }
 ],
 "metadata": {
  "orig_nbformat": 4,
  "language_info": {
   "name": "python",
   "version": "3.9.7",
   "mimetype": "text/x-python",
   "codemirror_mode": {
    "name": "ipython",
    "version": 3
   },
   "pygments_lexer": "ipython3",
   "nbconvert_exporter": "python",
   "file_extension": ".py"
  },
  "kernelspec": {
   "name": "python3",
   "display_name": "Python 3.9.7 64-bit"
  },
  "interpreter": {
   "hash": "412ba38462b43418a13e415f0c8a1df89e20ee39da0a14233adbb72f93968a77"
  }
 },
 "nbformat": 4,
 "nbformat_minor": 2
}