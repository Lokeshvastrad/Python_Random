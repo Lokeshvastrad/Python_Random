{
 "cells": [
  {
   "cell_type": "code",
   "execution_count": 10,
   "source": [
    "from collections import namedtuple\r\n",
    "Movie=namedtuple('Movie','title year score')\r\n",
    "d=[(('Steven Spielberg', 7.5), [Movie(title=\"Schindler's List \", year=1993, score=8.9)])]\r\n",
    "for a, (k, v) in enumerate(d,1):\r\n",
    "    print (a,k,v)"
   ],
   "outputs": [
    {
     "output_type": "stream",
     "name": "stdout",
     "text": [
      "1 ('Steven Spielberg', 7.5) [Movie(title=\"Schindler's List \", year=1993, score=8.9)]\n"
     ]
    }
   ],
   "metadata": {}
  }
 ],
 "metadata": {
  "orig_nbformat": 4,
  "language_info": {
   "name": "python",
   "version": "3.9.7",
   "mimetype": "text/x-python",
   "codemirror_mode": {
    "name": "ipython",
    "version": 3
   },
   "pygments_lexer": "ipython3",
   "nbconvert_exporter": "python",
   "file_extension": ".py"
  },
  "kernelspec": {
   "name": "python3",
   "display_name": "Python 3.9.7 64-bit"
  },
  "interpreter": {
   "hash": "412ba38462b43418a13e415f0c8a1df89e20ee39da0a14233adbb72f93968a77"
  }
 },
 "nbformat": 4,
 "nbformat_minor": 2
}